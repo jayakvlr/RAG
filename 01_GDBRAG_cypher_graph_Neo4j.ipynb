{
  "nbformat": 4,
  "nbformat_minor": 0,
  "metadata": {
    "colab": {
      "provenance": []
    },
    "kernelspec": {
      "name": "python3",
      "display_name": "Python 3"
    },
    "language_info": {
      "name": "python"
    }
  },
  "cells": [
    {
      "cell_type": "code",
      "execution_count": 1,
      "metadata": {
        "id": "1JmusyR_fFbr"
      },
      "outputs": [],
      "source": [
        "!pip install langchain --q\n",
        "!pip install python-dotenv --q"
      ]
    },
    {
      "cell_type": "code",
      "source": [
        "!pip install neo4j --q"
      ],
      "metadata": {
        "id": "KK8r-4T9_mvb"
      },
      "execution_count": 2,
      "outputs": []
    },
    {
      "cell_type": "code",
      "source": [
        "from dotenv import load_dotenv\n",
        "import os\n",
        "from langchain_community.graphs import Neo4jGraph\n",
        "import warnings\n",
        "warnings.filterwarnings(\"ignore\")"
      ],
      "metadata": {
        "id": "bL_EF7NlfPPv"
      },
      "execution_count": 3,
      "outputs": []
    },
    {
      "cell_type": "code",
      "source": [
        "import os\n",
        "\n",
        "# Set Neo4j details as environment variables\n",
        "os.environ['NEO4J_URI'] = 'neo4j+s://53848328.databases.neo4j.io'\n",
        "os.environ['NEO4J_USERNAME'] = 'neo4j'\n",
        "os.environ['NEO4J_PASSWORD'] = 'xhf1lOfPZJRbh2Puh2CeidiyDX8sWMisjkFA5OJDef4'\n",
        "os.environ['NEO4J_DATABASE'] = 'neo4j'\n"
      ],
      "metadata": {
        "id": "N0bnQzoPfPVF"
      },
      "execution_count": 4,
      "outputs": []
    },
    {
      "cell_type": "markdown",
      "source": [
        "# New Section"
      ],
      "metadata": {
        "id": "qp25qK9e9wf0"
      }
    },
    {
      "cell_type": "code",
      "source": [
        "NEO4J_URI = os.getenv('NEO4J_URI')\n",
        "NEO4J_USERNAME = os.getenv('NEO4J_USERNAME')\n",
        "NEO4J_PASSWORD = os.getenv('NEO4J_PASSWORD')\n",
        "NEO4J_DATABASE = os.getenv('NEO4J_DATABASE')"
      ],
      "metadata": {
        "id": "NBLd6oyPhqSP"
      },
      "execution_count": 5,
      "outputs": []
    },
    {
      "cell_type": "code",
      "source": [
        "kg = Neo4jGraph(\n",
        "    url=NEO4J_URI, username=NEO4J_USERNAME, password=NEO4J_PASSWORD, database=NEO4J_DATABASE\n",
        ")"
      ],
      "metadata": {
        "id": "uoYgWt9QhtF3"
      },
      "execution_count": 6,
      "outputs": []
    },
    {
      "cell_type": "code",
      "source": [
        "\"0TLdIyPzVoVFgSdVS0OrlWbqJGWxIQq79-CEu8Z0PEM\"\n",
        "label_to_delete = \"Label\"\n",
        "\n",
        "# Define and execute the Cypher query to delete nodes with the specified label\n",
        "query = f\"MATCH (n:{label_to_delete})-[r]-() DELETE n, r\"\n",
        "\n",
        "kg.query(query)"
      ],
      "metadata": {
        "id": "FQWi2oT_hurG",
        "colab": {
          "base_uri": "https://localhost:8080/"
        },
        "outputId": "269fe88d-c166-4bde-fff9-1dde58c2b873"
      },
      "execution_count": 7,
      "outputs": [
        {
          "output_type": "execute_result",
          "data": {
            "text/plain": [
              "[]"
            ]
          },
          "metadata": {},
          "execution_count": 7
        }
      ]
    },
    {
      "cell_type": "code",
      "source": [
        "cypher=\"\"\"MATCH (n) RETURN count(n)\"\"\""
      ],
      "metadata": {
        "id": "cBV53WohVgJP"
      },
      "execution_count": 8,
      "outputs": []
    },
    {
      "cell_type": "code",
      "source": [
        "result = kg.query(cypher)\n",
        "result"
      ],
      "metadata": {
        "colab": {
          "base_uri": "https://localhost:8080/"
        },
        "id": "qiz8hHsPVqSj",
        "outputId": "05c47aa9-5d1b-461d-dee9-c2b73bf379ab"
      },
      "execution_count": 9,
      "outputs": [
        {
          "output_type": "execute_result",
          "data": {
            "text/plain": [
              "[{'count(n)': 171}]"
            ]
          },
          "metadata": {},
          "execution_count": 9
        }
      ]
    },
    {
      "cell_type": "markdown",
      "source": [],
      "metadata": {
        "id": "rpB8sAilzo4_"
      }
    },
    {
      "cell_type": "markdown",
      "source": [],
      "metadata": {
        "id": "nAkQuk_2zpKZ"
      }
    },
    {
      "cell_type": "code",
      "source": [
        "cypher=\"MATCH (people :Person) RETURN count(people) as numberofPeople\"\n",
        "kg.query(cypher)"
      ],
      "metadata": {
        "colab": {
          "base_uri": "https://localhost:8080/"
        },
        "id": "bvkhfz1FVsWr",
        "outputId": "04ff3228-c77c-4b7a-ddc7-8a50b4eeda63"
      },
      "execution_count": 10,
      "outputs": [
        {
          "output_type": "execute_result",
          "data": {
            "text/plain": [
              "[{'numberofPeople': 133}]"
            ]
          },
          "metadata": {},
          "execution_count": 10
        }
      ]
    },
    {
      "cell_type": "code",
      "source": [
        "cypher=\"MATCH (m:MOVIE) RETURN count(m) as noofMovies\"\n",
        "kg.query(cypher)"
      ],
      "metadata": {
        "colab": {
          "base_uri": "https://localhost:8080/"
        },
        "id": "3cI3CtDbzoNj",
        "outputId": "87824039-baa0-4802-c60f-f79673b03cd5"
      },
      "execution_count": 11,
      "outputs": [
        {
          "output_type": "execute_result",
          "data": {
            "text/plain": [
              "[{'noofMovies': 0}]"
            ]
          },
          "metadata": {},
          "execution_count": 11
        }
      ]
    },
    {
      "cell_type": "code",
      "source": [
        "cypher = \"\"\"\n",
        "  MATCH (cloudAtlas:Movie {title:\"Cloud Atlas\"})\n",
        "  RETURN cloudAtlas.title\n",
        "  \"\"\"\n",
        "kg.query(cypher)"
      ],
      "metadata": {
        "colab": {
          "base_uri": "https://localhost:8080/"
        },
        "id": "WigW-xEd07tz",
        "outputId": "fc9edbbe-1321-4eea-a450-1aaac044dd4c"
      },
      "execution_count": 12,
      "outputs": [
        {
          "output_type": "execute_result",
          "data": {
            "text/plain": [
              "[{'cloudAtlas.title': 'Cloud Atlas'}]"
            ]
          },
          "metadata": {},
          "execution_count": 12
        }
      ]
    },
    {
      "cell_type": "code",
      "source": [
        "cypher = \"\"\"\n",
        "  MATCH (nineties:Movie)\n",
        "  WHERE nineties.released >= 1990\n",
        "    AND nineties.released < 2000\n",
        "  RETURN nineties.title\n",
        "  \"\"\"\n",
        "kg.query(cypher)"
      ],
      "metadata": {
        "colab": {
          "base_uri": "https://localhost:8080/"
        },
        "id": "nbiAxuh7HaPi",
        "outputId": "b54d9e29-fb94-4b56-89fe-c4d928c55a72"
      },
      "execution_count": 13,
      "outputs": [
        {
          "output_type": "execute_result",
          "data": {
            "text/plain": [
              "[{'nineties.title': 'The Matrix'},\n",
              " {'nineties.title': \"The Devil's Advocate\"},\n",
              " {'nineties.title': 'A Few Good Men'},\n",
              " {'nineties.title': 'As Good as It Gets'},\n",
              " {'nineties.title': 'What Dreams May Come'},\n",
              " {'nineties.title': 'Snow Falling on Cedars'},\n",
              " {'nineties.title': \"You've Got Mail\"},\n",
              " {'nineties.title': 'Sleepless in Seattle'},\n",
              " {'nineties.title': 'Joe Versus the Volcano'},\n",
              " {'nineties.title': 'When Harry Met Sally'},\n",
              " {'nineties.title': 'That Thing You Do'},\n",
              " {'nineties.title': 'The Birdcage'},\n",
              " {'nineties.title': 'Unforgiven'},\n",
              " {'nineties.title': 'Johnny Mnemonic'},\n",
              " {'nineties.title': 'The Green Mile'},\n",
              " {'nineties.title': 'Hoffa'},\n",
              " {'nineties.title': 'Apollo 13'},\n",
              " {'nineties.title': 'Twister'},\n",
              " {'nineties.title': 'Bicentennial Man'},\n",
              " {'nineties.title': 'A League of Their Own'}]"
            ]
          },
          "metadata": {},
          "execution_count": 13
        }
      ]
    },
    {
      "cell_type": "code",
      "source": [],
      "metadata": {
        "colab": {
          "base_uri": "https://localhost:8080/"
        },
        "id": "t2CORQqSOVAV",
        "outputId": "6eaa3178-31f3-4588-87b5-af20ed348a93"
      },
      "execution_count": 14,
      "outputs": [
        {
          "output_type": "execute_result",
          "data": {
            "text/plain": [
              "[]"
            ]
          },
          "metadata": {},
          "execution_count": 14
        }
      ]
    },
    {
      "cell_type": "markdown",
      "source": [
        "Finding actors and their movies"
      ],
      "metadata": {
        "id": "eHQkZ6oa6nxN"
      }
    },
    {
      "cell_type": "code",
      "source": [
        "cypher = \"\"\"\n",
        "  MATCH (actor:Person)-[:ACTED_IN]->(movie:Movie) AND (dir:)\n",
        "  RETURN actor.name as actor, movie.title as movie LIMIT 10\n",
        "  \"\"\"\n",
        "kg.query(cypher)"
      ],
      "metadata": {
        "colab": {
          "base_uri": "https://localhost:8080/"
        },
        "id": "eeU1LlNQsuLP",
        "outputId": "8e5599c9-82a7-4f51-ed36-48cf1407b5a0"
      },
      "execution_count": 18,
      "outputs": [
        {
          "output_type": "execute_result",
          "data": {
            "text/plain": [
              "[{'actor': 'Keanu Reeves', 'movie': 'The Matrix'},\n",
              " {'actor': 'Carrie-Anne Moss', 'movie': 'The Matrix'},\n",
              " {'actor': 'Laurence Fishburne', 'movie': 'The Matrix'},\n",
              " {'actor': 'Hugo Weaving', 'movie': 'The Matrix'},\n",
              " {'actor': 'Emil Eifrem', 'movie': 'The Matrix'},\n",
              " {'actor': 'Keanu Reeves', 'movie': 'The Matrix Reloaded'},\n",
              " {'actor': 'Carrie-Anne Moss', 'movie': 'The Matrix Reloaded'},\n",
              " {'actor': 'Laurence Fishburne', 'movie': 'The Matrix Reloaded'},\n",
              " {'actor': 'Hugo Weaving', 'movie': 'The Matrix Reloaded'},\n",
              " {'actor': 'Keanu Reeves', 'movie': 'The Matrix Revolutions'}]"
            ]
          },
          "metadata": {},
          "execution_count": 18
        }
      ]
    },
    {
      "cell_type": "markdown",
      "source": [
        "Movies released between 1990 and 2000"
      ],
      "metadata": {
        "id": "8L8OVrV96jS-"
      }
    },
    {
      "cell_type": "code",
      "source": [
        "cypher=\"\"\"\n",
        "MATCH (nineties:Movie) WHERE nineties.released >=1990 AND nineties.released <2000\n",
        "RETURN nineties.title as movies\"\"\"\n",
        "kg.query(cypher)"
      ],
      "metadata": {
        "colab": {
          "base_uri": "https://localhost:8080/"
        },
        "id": "oZFjGgVZRQx4",
        "outputId": "28e0a640-8735-49b4-bacb-56283fb062e5"
      },
      "execution_count": 16,
      "outputs": [
        {
          "output_type": "execute_result",
          "data": {
            "text/plain": [
              "[{'movies': 'The Matrix'},\n",
              " {'movies': \"The Devil's Advocate\"},\n",
              " {'movies': 'A Few Good Men'},\n",
              " {'movies': 'As Good as It Gets'},\n",
              " {'movies': 'What Dreams May Come'},\n",
              " {'movies': 'Snow Falling on Cedars'},\n",
              " {'movies': \"You've Got Mail\"},\n",
              " {'movies': 'Sleepless in Seattle'},\n",
              " {'movies': 'Joe Versus the Volcano'},\n",
              " {'movies': 'When Harry Met Sally'},\n",
              " {'movies': 'That Thing You Do'},\n",
              " {'movies': 'The Birdcage'},\n",
              " {'movies': 'Unforgiven'},\n",
              " {'movies': 'Johnny Mnemonic'},\n",
              " {'movies': 'The Green Mile'},\n",
              " {'movies': 'Hoffa'},\n",
              " {'movies': 'Apollo 13'},\n",
              " {'movies': 'Twister'},\n",
              " {'movies': 'Bicentennial Man'},\n",
              " {'movies': 'A League of Their Own'}]"
            ]
          },
          "metadata": {},
          "execution_count": 16
        }
      ]
    },
    {
      "cell_type": "markdown",
      "source": [
        "The tom hank movies and the costars in those movies"
      ],
      "metadata": {
        "id": "HJqTUHWb6cAp"
      }
    },
    {
      "cell_type": "code",
      "source": [
        "cypher = \"\"\"\n",
        "MATCH (tom:Person{name:\"Tom Hanks\"})-[:ACTED_IN]->(movie)<-[:ACTED_IN]-(coactor: Person)\n",
        "RETURN movie.title as tomHankMovies,coactor.name as coActor\n",
        "  \"\"\"\n",
        "kg.query(cypher)"
      ],
      "metadata": {
        "colab": {
          "base_uri": "https://localhost:8080/"
        },
        "id": "wvQSKCQIuGQ1",
        "outputId": "beb8351a-e878-4b29-dcb4-060979fa488e"
      },
      "execution_count": 27,
      "outputs": [
        {
          "output_type": "execute_result",
          "data": {
            "text/plain": [
              "[{'tomHankMovies': \"You've Got Mail\", 'coActor': 'Meg Ryan'},\n",
              " {'tomHankMovies': \"You've Got Mail\", 'coActor': 'Greg Kinnear'},\n",
              " {'tomHankMovies': \"You've Got Mail\", 'coActor': 'Parker Posey'},\n",
              " {'tomHankMovies': \"You've Got Mail\", 'coActor': 'Dave Chappelle'},\n",
              " {'tomHankMovies': \"You've Got Mail\", 'coActor': 'Steve Zahn'},\n",
              " {'tomHankMovies': 'Sleepless in Seattle', 'coActor': 'Meg Ryan'},\n",
              " {'tomHankMovies': 'Sleepless in Seattle', 'coActor': 'Rita Wilson'},\n",
              " {'tomHankMovies': 'Sleepless in Seattle', 'coActor': 'Bill Pullman'},\n",
              " {'tomHankMovies': 'Sleepless in Seattle', 'coActor': 'Victor Garber'},\n",
              " {'tomHankMovies': 'Sleepless in Seattle', 'coActor': \"Rosie O'Donnell\"},\n",
              " {'tomHankMovies': 'Joe Versus the Volcano', 'coActor': 'Meg Ryan'},\n",
              " {'tomHankMovies': 'Joe Versus the Volcano', 'coActor': 'Nathan Lane'},\n",
              " {'tomHankMovies': 'That Thing You Do', 'coActor': 'Charlize Theron'},\n",
              " {'tomHankMovies': 'That Thing You Do', 'coActor': 'Liv Tyler'},\n",
              " {'tomHankMovies': 'Cloud Atlas', 'coActor': 'Hugo Weaving'},\n",
              " {'tomHankMovies': 'Cloud Atlas', 'coActor': 'Halle Berry'},\n",
              " {'tomHankMovies': 'Cloud Atlas', 'coActor': 'Jim Broadbent'},\n",
              " {'tomHankMovies': 'The Da Vinci Code', 'coActor': 'Ian McKellen'},\n",
              " {'tomHankMovies': 'The Da Vinci Code', 'coActor': 'Audrey Tautou'},\n",
              " {'tomHankMovies': 'The Da Vinci Code', 'coActor': 'Paul Bettany'},\n",
              " {'tomHankMovies': 'The Green Mile', 'coActor': 'Bonnie Hunt'},\n",
              " {'tomHankMovies': 'The Green Mile', 'coActor': 'James Cromwell'},\n",
              " {'tomHankMovies': 'The Green Mile', 'coActor': 'Michael Clarke Duncan'},\n",
              " {'tomHankMovies': 'The Green Mile', 'coActor': 'David Morse'},\n",
              " {'tomHankMovies': 'The Green Mile', 'coActor': 'Sam Rockwell'},\n",
              " {'tomHankMovies': 'The Green Mile', 'coActor': 'Gary Sinise'},\n",
              " {'tomHankMovies': 'The Green Mile', 'coActor': 'Patricia Clarkson'},\n",
              " {'tomHankMovies': 'Apollo 13', 'coActor': 'Kevin Bacon'},\n",
              " {'tomHankMovies': 'Apollo 13', 'coActor': 'Gary Sinise'},\n",
              " {'tomHankMovies': 'Apollo 13', 'coActor': 'Ed Harris'},\n",
              " {'tomHankMovies': 'Apollo 13', 'coActor': 'Bill Paxton'},\n",
              " {'tomHankMovies': 'Cast Away', 'coActor': 'Helen Hunt'},\n",
              " {'tomHankMovies': \"Charlie Wilson's War\",\n",
              "  'coActor': 'Philip Seymour Hoffman'},\n",
              " {'tomHankMovies': \"Charlie Wilson's War\", 'coActor': 'Julia Roberts'},\n",
              " {'tomHankMovies': 'A League of Their Own', 'coActor': \"Rosie O'Donnell\"},\n",
              " {'tomHankMovies': 'A League of Their Own', 'coActor': 'Bill Paxton'},\n",
              " {'tomHankMovies': 'A League of Their Own', 'coActor': 'Madonna'},\n",
              " {'tomHankMovies': 'A League of Their Own', 'coActor': 'Geena Davis'},\n",
              " {'tomHankMovies': 'A League of Their Own', 'coActor': 'Lori Petty'}]"
            ]
          },
          "metadata": {},
          "execution_count": 27
        }
      ]
    },
    {
      "cell_type": "markdown",
      "source": [
        "Emil Eifrems and his movies"
      ],
      "metadata": {
        "id": "0KHkanF-7F4F"
      }
    },
    {
      "cell_type": "code",
      "source": [
        "\n",
        "cypher=\"\"\"MATCH (emil :Person {name:\"Emil Eifrem\" })-[acted_in:ACTED_IN]->(movie:Movie)\n",
        "RETURN movie.title as emilMovies\"\"\"\n",
        "kg.query(cypher)"
      ],
      "metadata": {
        "colab": {
          "base_uri": "https://localhost:8080/"
        },
        "id": "vu1d6dRMuoXM",
        "outputId": "88b48132-82fa-4121-d78d-2c1646aee46b"
      },
      "execution_count": 35,
      "outputs": [
        {
          "output_type": "execute_result",
          "data": {
            "text/plain": [
              "[]"
            ]
          },
          "metadata": {},
          "execution_count": 35
        }
      ]
    },
    {
      "cell_type": "markdown",
      "source": [
        "Delete the emil eifrem relationship to the movie"
      ],
      "metadata": {
        "id": "6Ehc3Z0e6_tV"
      }
    },
    {
      "cell_type": "code",
      "source": [
        "cypher=\"\"\"MATCH (emil :Person {name:\"Emil Eifrem\" })-[acted_in:ACTED_IN]->(movie:Movie)\n",
        "DELETE acted_in\"\"\"\n",
        "kg.query(cypher)"
      ],
      "metadata": {
        "colab": {
          "base_uri": "https://localhost:8080/"
        },
        "id": "FTWYmPSo5-v2",
        "outputId": "cb484f25-0f56-4e65-daf5-a8c73dc500c8"
      },
      "execution_count": 34,
      "outputs": [
        {
          "output_type": "execute_result",
          "data": {
            "text/plain": [
              "[]"
            ]
          },
          "metadata": {},
          "execution_count": 34
        }
      ]
    },
    {
      "cell_type": "code",
      "source": [
        "cypher=\"\"\"CREATE (jaya :Person{name :\"Jayalekshmi\"})\n",
        "Return jaya\"\"\"\n",
        "kg.query(cypher)"
      ],
      "metadata": {
        "colab": {
          "base_uri": "https://localhost:8080/"
        },
        "id": "BjAX614U69_0",
        "outputId": "af899670-5216-4596-e42d-aef30a9427f9"
      },
      "execution_count": 38,
      "outputs": [
        {
          "output_type": "execute_result",
          "data": {
            "text/plain": [
              "[{'jaya': {'name': 'Jayalekshmi'}}]"
            ]
          },
          "metadata": {},
          "execution_count": 38
        }
      ]
    },
    {
      "cell_type": "code",
      "source": [
        "cypher=\"\"\" MATCH  (jaya :Person{name:\"Jayalekshmi\"}),(emil:Person{name:\"Emil Eifrem\"})\n",
        "MERGE (jaya)-[workswith:WORKS_WITH]->(emil)\n",
        "RETURN jaya,workswith,emil\"\"\"\n",
        "kg.query(cypher)"
      ],
      "metadata": {
        "colab": {
          "base_uri": "https://localhost:8080/"
        },
        "id": "wSSAU7sN7cI5",
        "outputId": "07451fc8-0a6a-4057-f563-6b1e59f90cfc"
      },
      "execution_count": 53,
      "outputs": [
        {
          "output_type": "execute_result",
          "data": {
            "text/plain": [
              "[{'jaya': {'name': 'Jayalekshmi'},\n",
              "  'workswith': ({'name': 'Jayalekshmi'},\n",
              "   'WORKS_WITH',\n",
              "   {'born': 1978, 'name': 'Emil Eifrem'}),\n",
              "  'emil': {'born': 1978, 'name': 'Emil Eifrem'}}]"
            ]
          },
          "metadata": {},
          "execution_count": 53
        }
      ]
    },
    {
      "cell_type": "code",
      "source": [
        "cypher=\"\"\"MATCH (jaya:Person{name:\"Jayalekshmi\"})-[:WORKS_WITH]->(p)\n",
        "return p.name\"\"\"\n",
        "kg.query(cypher)"
      ],
      "metadata": {
        "colab": {
          "base_uri": "https://localhost:8080/"
        },
        "id": "fuIbxrYRGV4y",
        "outputId": "0b2e1fbb-6ab5-46ea-c949-2f9080100efa"
      },
      "execution_count": 59,
      "outputs": [
        {
          "output_type": "execute_result",
          "data": {
            "text/plain": [
              "[{'p.name': 'Emil Eifrem'}]"
            ]
          },
          "metadata": {},
          "execution_count": 59
        }
      ]
    },
    {
      "cell_type": "code",
      "source": [],
      "metadata": {
        "id": "2dRb8zRGG1R0"
      },
      "execution_count": null,
      "outputs": []
    }
  ]
}